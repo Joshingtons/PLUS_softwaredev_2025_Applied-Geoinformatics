{
 "cells": [
  {
   "cell_type": "markdown",
   "id": "01998329",
   "metadata": {},
   "source": [
    "\n",
    "# Using GeoPandas for Spatial Data Handling\n",
    "\n",
    "For our project, we need to process, filter, and visualize geospatial data about healthcare amenities. \n",
    "A good library for this is [GeoPandas](https://geopandas.org/en/stable/).\n",
    "\n",
    "GeoPandas extends pandas to support spatial data types and operations. \n",
    "It allows us to:\n",
    "- Read and write geospatial data formats (Shapefile, GeoJSON, etc.)\n",
    "- Handle geometries (points, polygons, lines)\n",
    "- Perform spatial operations (buffer, intersect, distance)\n",
    "- Plot maps directly with Matplotlib\n",
    "\n",
    "In our final project, GeoPandas will help us handle healthcare facility data \n",
    "(e.g., clinics, hospitals, pharmacies) stored in GeoJSON or shapefiles.\n"
   ]
  },
  {
   "cell_type": "code",
   "execution_count": null,
   "id": "39d7dcba",
   "metadata": {},
   "outputs": [],
   "source": [
    "\n",
    "# Install if not already available\n",
    "# !pip install geopandas\n",
    "\n",
    "import geopandas as gpd\n",
    "from shapely.geometry import Point\n"
   ]
  },
  {
   "cell_type": "code",
   "execution_count": null,
   "id": "976d93c6",
   "metadata": {},
   "outputs": [],
   "source": [
    "\n",
    "# Example healthcare amenities with coordinates (longitude, latitude)\n",
    "data = {\n",
    "    \"name\": [\"Clinic A\", \"Pharmacy B\", \"Hospital C\"],\n",
    "    \"type\": [\"Clinic\", \"Pharmacy\", \"Hospital\"],\n",
    "    \"longitude\": [16.3738, 16.358, 16.340],\n",
    "    \"latitude\": [48.2082, 48.210, 48.215]\n",
    "}\n",
    "\n",
    "# Create a GeoDataFrame with Point geometries\n",
    "gdf = gpd.GeoDataFrame(\n",
    "    data, \n",
    "    geometry=gpd.points_from_xy(data[\"longitude\"], data[\"latitude\"]),\n",
    "    crs=\"EPSG:4326\"  # WGS84 coordinate reference system\n",
    ")\n",
    "\n",
    "gdf\n"
   ]
  },
  {
   "cell_type": "code",
   "execution_count": null,
   "id": "09d67b13",
   "metadata": {},
   "outputs": [],
   "source": [
    "\n",
    "# Example: Select facilities within 1 km buffer of a given point (e.g. user location)\n",
    "user_location = Point(16.36, 48.21)  # Example user location in Vienna\n",
    "user_buffer = gpd.GeoSeries([user_location.buffer(0.01)], crs=\"EPSG:4326\")  \n",
    "# ~0.01 degrees ≈ 1 km (approximate)\n",
    "\n",
    "# Check which facilities intersect with this buffer\n",
    "nearby_facilities = gdf[gdf.intersects(user_buffer[0])]\n",
    "nearby_facilities\n"
   ]
  },
  {
   "cell_type": "code",
   "execution_count": null,
   "id": "c42dc7cd",
   "metadata": {},
   "outputs": [],
   "source": [
    "\n",
    "import matplotlib.pyplot as plt\n",
    "\n",
    "fig, ax = plt.subplots(figsize=(6,6))\n",
    "gdf.plot(ax=ax, color=\"blue\", markersize=50, label=\"Healthcare Facilities\")\n",
    "user_buffer.plot(ax=ax, color=\"red\", alpha=0.3, label=\"1 km Buffer\")\n",
    "plt.legend()\n",
    "plt.show()\n"
   ]
  },
  {
   "cell_type": "markdown",
   "id": "d304fbeb",
   "metadata": {},
   "source": [
    "\n",
    "### Conclusion\n",
    "Using GeoPandas, we can:\n",
    "- Load healthcare facility data from GeoJSON or shapefiles\n",
    "- Represent them as point geometries\n",
    "- Run spatial queries (find nearby clinics, hospitals, pharmacies)\n",
    "- Visualize results easily with Matplotlib\n",
    "\n",
    "In the final project, we will extend this:\n",
    "- Load real healthcare facility data from OpenStreetMap\n",
    "- Integrate with Django backend\n",
    "- Provide GeoJSON output for frontend mapping (Leaflet.js)\n"
   ]
  }
 ],
 "metadata": {},
 "nbformat": 4,
 "nbformat_minor": 5
}
